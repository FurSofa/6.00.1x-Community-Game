{
 "cells": [
  {
   "cell_type": "markdown",
   "metadata": {},
   "source": [
    "hp:\n",
    "\n"
   ]
  },
  {
   "cell_type": "code",
   "execution_count": 3,
   "metadata": {},
   "outputs": [],
   "source": [
    "def c_vit_to_hp(df, start, hp_per_vit, hp_per_lvl):\n",
    "    df['hp'] = (df['vit'] * hp_per_vit) + (df['lvl'] * hp_per_lvl) + start\n",
    "    return df"
   ]
  },
  {
   "cell_type": "markdown",
   "metadata": {},
   "source": [
    "dmg:"
   ]
  },
  {
   "cell_type": "code",
   "execution_count": 2,
   "metadata": {},
   "outputs": [],
   "source": [
    "def c_str_to_dmg(df, wpn_dmg, b_dmg_wpn_dmg_factor, start, dmg_per_level, dmg_per_str):\n",
    "    df['p_dmg_wo_wpn'] = (df['str'] * dmg_per_str) + (df['lvl'] * dmg_per_level)\n",
    "    df['p_dmg'] = round((df['p_dmg_wo_wpn'] / 100) * b_dmg_wpn_dmg_factor * wpn_dmg, 2) + wpn_dmg + start\n",
    "    return df\n",
    "\n",
    "\n",
    "def c_int_to_dmg(df, wpn_dmg, b_dmg_wpn_dmg_factor, start, dmg_per_level, dmg_per_int):\n",
    "    df['m_dmg_wo_wpn'] = (df['int'] * dmg_per_int) + (df['lvl'] * dmg_per_level)\n",
    "    df['m_dmg'] = round((df['m_dmg_wo_wpn'] / 100) * b_dmg_wpn_dmg_factor * wpn_dmg, 2) + wpn_dmg + start\n",
    "    return df\n",
    "\n",
    "\n",
    "def c_dex_to_dmg(df, wpn_dmg, b_dmg_wpn_dmg_factor, start, dmg_per_level, dmg_per_dex):\n",
    "    df['d_dmg_wo_wpn'] = (df['dex'] * dmg_per_dex) + (df['lvl'] * dmg_per_level)\n",
    "    df['d_dmg'] = round((df['d_dmg_wo_wpn'] / 100) * b_dmg_wpn_dmg_factor * wpn_dmg, 2) + wpn_dmg + start\n",
    "    return df"
   ]
  },
  {
   "cell_type": "markdown",
   "metadata": {},
   "source": [
    "armor:"
   ]
  },
  {
   "cell_type": "code",
   "execution_count": 4,
   "metadata": {},
   "outputs": [],
   "source": [
    "def c_str_to_armor(df, start, armor_per_level, armor_per_str):\n",
    "    df['str_armor'] = (df['str'] * armor_per_str) + (df['lvl'] * armor_per_level) + start\n",
    "    return df\n",
    "\n",
    "\n",
    "def c_toughness_to_armor(df, armor_per_toughness):\n",
    "    df['armor'] = (df['toughness'] * armor_per_toughness) + df['str_armor']\n",
    "    return df"
   ]
  },
  {
   "cell_type": "markdown",
   "metadata": {},
   "source": [
    "dodge:"
   ]
  },
  {
   "cell_type": "code",
   "execution_count": 5,
   "metadata": {},
   "outputs": [],
   "source": [
    "def c_dex_speed_to_dodge(df, start, dodge_per_speed, dodge_per_dex):\n",
    "    df['dodge'] = (df['dex'] * dodge_per_dex) + (df['speed'] * dodge_per_speed) + start\n",
    "    return df"
   ]
  },
  {
   "cell_type": "markdown",
   "metadata": {},
   "source": [
    "crit:"
   ]
  },
  {
   "cell_type": "code",
   "execution_count": 6,
   "metadata": {},
   "outputs": [],
   "source": [
    "def c_dex_to_crit(df, chance_start, crit_chan_per_level, crit_chan_per_dex,\n",
    "                  dmg_start, crit_dmg_per_level, crit_dmg_per_dex):\n",
    "    df['crit_chan'] = (df['dex'] * crit_chan_per_dex) + (df['lvl'] * crit_chan_per_level) + chance_start\n",
    "    df['crit_dmg'] = (df['dex'] * crit_dmg_per_dex) + (df['lvl'] * crit_dmg_per_level) + dmg_start\n",
    "    return df"
   ]
  },
  {
   "cell_type": "markdown",
   "metadata": {},
   "source": [
    "speed:"
   ]
  },
  {
   "cell_type": "code",
   "execution_count": 7,
   "metadata": {},
   "outputs": [],
   "source": [
    "def c_dex_to_speed(df, speed_per_dex,speed_per_b_speed, speed_factor, speed_start):\n",
    "    ct = 1000\n",
    "    df['speed'] = (df['dex'] * speed_per_dex) + (df['b_speed'] * speed_per_b_speed) * speed_factor + speed_start\n",
    "    df['ticks_to_turn'] = round(ct / df['speed'], 2)\n",
    "    return df"
   ]
  },
  {
   "cell_type": "code",
   "execution_count": null,
   "metadata": {},
   "outputs": [],
   "source": []
  }
 ],
 "metadata": {
  "kernelspec": {
   "display_name": "Python 3",
   "language": "python",
   "name": "python3"
  },
  "language_info": {
   "codemirror_mode": {
    "name": "ipython",
    "version": 3
   },
   "file_extension": ".py",
   "mimetype": "text/x-python",
   "name": "python",
   "nbconvert_exporter": "python",
   "pygments_lexer": "ipython3",
   "version": "3.7.3"
  }
 },
 "nbformat": 4,
 "nbformat_minor": 2
}
